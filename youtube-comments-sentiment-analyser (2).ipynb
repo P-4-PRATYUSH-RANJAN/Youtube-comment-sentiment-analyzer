{
 "cells": [
  {
   "cell_type": "code",
   "execution_count": 1,
   "id": "8352ad28",
   "metadata": {
    "_cell_guid": "b1076dfc-b9ad-4769-8c92-a6c4dae69d19",
    "_uuid": "8f2839f25d086af736a60e9eeb907d3b93b6e0e5",
    "execution": {
     "iopub.execute_input": "2023-07-02T10:42:46.915223Z",
     "iopub.status.busy": "2023-07-02T10:42:46.914523Z",
     "iopub.status.idle": "2023-07-02T10:42:46.936137Z",
     "shell.execute_reply": "2023-07-02T10:42:46.934824Z"
    },
    "papermill": {
     "duration": 0.039843,
     "end_time": "2023-07-02T10:42:46.940737",
     "exception": false,
     "start_time": "2023-07-02T10:42:46.900894",
     "status": "completed"
    },
    "tags": []
   },
   "outputs": [
    {
     "name": "stdout",
     "output_type": "stream",
     "text": [
      "/kaggle/input/blackadam-trailer-comments/comments.csv\n"
     ]
    }
   ],
   "source": [
    "# This Python 3 environment comes with many helpful analytics libraries installed\n",
    "# It is defined by the kaggle/python Docker image: https://github.com/kaggle/docker-python\n",
    "# For example, here's several helpful packages to load\n",
    "\n",
    "import numpy as np # linear algebra\n",
    "import pandas as pd # data processing, CSV file I/O (e.g. pd.read_csv)\n",
    "\n",
    "# Input data files are available in the read-only \"../input/\" directory\n",
    "# For example, running this (by clicking run or pressing Shift+Enter) will list all files under the input directory\n",
    "\n",
    "import os\n",
    "for dirname, _, filenames in os.walk('/kaggle/input'):\n",
    "    for filename in filenames:\n",
    "        print(os.path.join(dirname, filename))\n",
    "\n",
    "# You can write up to 20GB to the current directory (/kaggle/working/) that gets preserved as output when you create a version using \"Save & Run All\" \n",
    "# You can also write temporary files to /kaggle/temp/, but they won't be saved outside of the current session"
   ]
  },
  {
   "cell_type": "markdown",
   "id": "f6337392",
   "metadata": {
    "papermill": {
     "duration": 0.009601,
     "end_time": "2023-07-02T10:42:46.960874",
     "exception": false,
     "start_time": "2023-07-02T10:42:46.951273",
     "status": "completed"
    },
    "tags": []
   },
   "source": [
    "# Dataextraction"
   ]
  },
  {
   "cell_type": "code",
   "execution_count": 2,
   "id": "d7a607d8",
   "metadata": {
    "execution": {
     "iopub.execute_input": "2023-07-02T10:42:46.983646Z",
     "iopub.status.busy": "2023-07-02T10:42:46.982554Z",
     "iopub.status.idle": "2023-07-02T10:42:46.988982Z",
     "shell.execute_reply": "2023-07-02T10:42:46.988057Z"
    },
    "papermill": {
     "duration": 0.02114,
     "end_time": "2023-07-02T10:42:46.991972",
     "exception": false,
     "start_time": "2023-07-02T10:42:46.970832",
     "status": "completed"
    },
    "tags": []
   },
   "outputs": [],
   "source": [
    "# from youtube_comment_scraper_python import *\n",
    "# import pandas as pd\n",
    "\n",
    "# link = input(\"Youtube links: \")\n",
    "# saved = input(\"Output name: \")\n",
    "# youtube.open(link)\n",
    "\n",
    "# response = youtube.video_comments()\n",
    "# all_data = []\n",
    "# for i in range(0, 20): # It will scroll 10 times\n",
    "#     response = youtube.video_comments()\n",
    "#     data = response['body']\n",
    "#     all_data.extend(data)\n",
    "# df = pd.DataFrame(data)\n",
    "# df.to_csv(saved)"
   ]
  },
  {
   "cell_type": "markdown",
   "id": "91d797c9",
   "metadata": {
    "papermill": {
     "duration": 0.014142,
     "end_time": "2023-07-02T10:42:47.016827",
     "exception": false,
     "start_time": "2023-07-02T10:42:47.002685",
     "status": "completed"
    },
    "tags": []
   },
   "source": [
    "# Datatransformation"
   ]
  },
  {
   "cell_type": "markdown",
   "id": "32869852",
   "metadata": {
    "papermill": {
     "duration": 0.010118,
     "end_time": "2023-07-02T10:42:47.038771",
     "exception": false,
     "start_time": "2023-07-02T10:42:47.028653",
     "status": "completed"
    },
    "tags": []
   },
   "source": [
    "* **Libraries required**"
   ]
  },
  {
   "cell_type": "code",
   "execution_count": 3,
   "id": "00004fba",
   "metadata": {
    "execution": {
     "iopub.execute_input": "2023-07-02T10:42:47.061185Z",
     "iopub.status.busy": "2023-07-02T10:42:47.060414Z",
     "iopub.status.idle": "2023-07-02T10:42:49.247749Z",
     "shell.execute_reply": "2023-07-02T10:42:49.246100Z"
    },
    "papermill": {
     "duration": 2.202295,
     "end_time": "2023-07-02T10:42:49.251036",
     "exception": false,
     "start_time": "2023-07-02T10:42:47.048741",
     "status": "completed"
    },
    "tags": []
   },
   "outputs": [],
   "source": [
    "#Libraries \n",
    "import numpy as np\n",
    "import pandas as pd \n",
    "import matplotlib.pyplot as plt\n",
    "%matplotlib inline\n",
    "import os\n",
    "\n",
    "# Import functions for data preprocessing & data preparation\n",
    "from sklearn.preprocessing import LabelEncoder\n",
    "from sklearn.utils import resample\n",
    "from sklearn.feature_extraction.text import CountVectorizer\n",
    "from nltk.sentiment.vader import SentimentIntensityAnalyzer\n",
    "\n",
    "from nltk.tokenize import word_tokenize\n",
    "from nltk.stem import WordNetLemmatizer\n",
    "from nltk.stem import PorterStemmer, LancasterStemmer\n",
    "from nltk.stem.snowball import SnowballStemmer\n",
    "from nltk.corpus import stopwords\n",
    "from nltk.corpus import wordnet\n",
    "import string\n",
    "from string import punctuation\n",
    "import nltk\n",
    "import re"
   ]
  },
  {
   "cell_type": "markdown",
   "id": "c75ced9a",
   "metadata": {
    "papermill": {
     "duration": 0.009515,
     "end_time": "2023-07-02T10:42:49.270557",
     "exception": false,
     "start_time": "2023-07-02T10:42:49.261042",
     "status": "completed"
    },
    "tags": []
   },
   "source": [
    "* **Read data**"
   ]
  },
  {
   "cell_type": "code",
   "execution_count": 4,
   "id": "76ab21e2",
   "metadata": {
    "execution": {
     "iopub.execute_input": "2023-07-02T10:42:49.293314Z",
     "iopub.status.busy": "2023-07-02T10:42:49.292846Z",
     "iopub.status.idle": "2023-07-02T10:42:49.341745Z",
     "shell.execute_reply": "2023-07-02T10:42:49.340247Z"
    },
    "papermill": {
     "duration": 0.063135,
     "end_time": "2023-07-02T10:42:49.344684",
     "exception": false,
     "start_time": "2023-07-02T10:42:49.281549",
     "status": "completed"
    },
    "tags": []
   },
   "outputs": [
    {
     "data": {
      "text/html": [
       "<div>\n",
       "<style scoped>\n",
       "    .dataframe tbody tr th:only-of-type {\n",
       "        vertical-align: middle;\n",
       "    }\n",
       "\n",
       "    .dataframe tbody tr th {\n",
       "        vertical-align: top;\n",
       "    }\n",
       "\n",
       "    .dataframe thead th {\n",
       "        text-align: right;\n",
       "    }\n",
       "</style>\n",
       "<table border=\"1\" class=\"dataframe\">\n",
       "  <thead>\n",
       "    <tr style=\"text-align: right;\">\n",
       "      <th></th>\n",
       "      <th>Comment</th>\n",
       "    </tr>\n",
       "  </thead>\n",
       "  <tbody>\n",
       "    <tr>\n",
       "      <th>0</th>\n",
       "      <td>Love how Dr. Fate's design looks and how cool ...</td>\n",
       "    </tr>\n",
       "    <tr>\n",
       "      <th>1</th>\n",
       "      <td>I can’t get over how good everything looks. Dr...</td>\n",
       "    </tr>\n",
       "    <tr>\n",
       "      <th>2</th>\n",
       "      <td>Really hoping that this can save DC's movie un...</td>\n",
       "    </tr>\n",
       "    <tr>\n",
       "      <th>3</th>\n",
       "      <td>U cant deny how good this looks.Now if they ca...</td>\n",
       "    </tr>\n",
       "    <tr>\n",
       "      <th>4</th>\n",
       "      <td>From this trailer, I have a feeling that this ...</td>\n",
       "    </tr>\n",
       "    <tr>\n",
       "      <th>...</th>\n",
       "      <td>...</td>\n",
       "    </tr>\n",
       "    <tr>\n",
       "      <th>275</th>\n",
       "      <td>I want to see this. It may be one of his most ...</td>\n",
       "    </tr>\n",
       "    <tr>\n",
       "      <th>276</th>\n",
       "      <td>wow thats very amazing. I can't wait to see.</td>\n",
       "    </tr>\n",
       "    <tr>\n",
       "      <th>277</th>\n",
       "      <td>Doctor Fate is why i'm watching</td>\n",
       "    </tr>\n",
       "    <tr>\n",
       "      <th>278</th>\n",
       "      <td>This looks fire. DC looks like they stepping t...</td>\n",
       "    </tr>\n",
       "    <tr>\n",
       "      <th>279</th>\n",
       "      <td>Shazam : \"I don't want fight you Black Adam.\"B...</td>\n",
       "    </tr>\n",
       "  </tbody>\n",
       "</table>\n",
       "<p>280 rows × 1 columns</p>\n",
       "</div>"
      ],
      "text/plain": [
       "                                               Comment\n",
       "0    Love how Dr. Fate's design looks and how cool ...\n",
       "1    I can’t get over how good everything looks. Dr...\n",
       "2    Really hoping that this can save DC's movie un...\n",
       "3    U cant deny how good this looks.Now if they ca...\n",
       "4    From this trailer, I have a feeling that this ...\n",
       "..                                                 ...\n",
       "275  I want to see this. It may be one of his most ...\n",
       "276       wow thats very amazing. I can't wait to see.\n",
       "277                    Doctor Fate is why i'm watching\n",
       "278  This looks fire. DC looks like they stepping t...\n",
       "279  Shazam : \"I don't want fight you Black Adam.\"B...\n",
       "\n",
       "[280 rows x 1 columns]"
      ]
     },
     "execution_count": 4,
     "metadata": {},
     "output_type": "execute_result"
    }
   ],
   "source": [
    "data = pd.read_csv('../input/blackadam-trailer-comments/comments.csv')\n",
    "data.columns\n",
    "data1=data.drop(['Unnamed: 0','Likes','Time','user','UserLink'],axis=1)\n",
    "data1"
   ]
  },
  {
   "cell_type": "markdown",
   "id": "0eeb9926",
   "metadata": {
    "papermill": {
     "duration": 0.00988,
     "end_time": "2023-07-02T10:42:49.364983",
     "exception": false,
     "start_time": "2023-07-02T10:42:49.355103",
     "status": "completed"
    },
    "tags": []
   },
   "source": [
    "* **Data labelling**"
   ]
  },
  {
   "cell_type": "code",
   "execution_count": 5,
   "id": "d89a1c98",
   "metadata": {
    "execution": {
     "iopub.execute_input": "2023-07-02T10:42:49.387521Z",
     "iopub.status.busy": "2023-07-02T10:42:49.387019Z",
     "iopub.status.idle": "2023-07-02T10:42:50.030790Z",
     "shell.execute_reply": "2023-07-02T10:42:50.028873Z"
    },
    "papermill": {
     "duration": 0.658843,
     "end_time": "2023-07-02T10:42:50.034064",
     "exception": false,
     "start_time": "2023-07-02T10:42:49.375221",
     "status": "completed"
    },
    "tags": []
   },
   "outputs": [
    {
     "name": "stderr",
     "output_type": "stream",
     "text": [
      "[nltk_data] Downloading package vader_lexicon to\n",
      "[nltk_data]     /usr/share/nltk_data...\n",
      "[nltk_data]   Package vader_lexicon is already up-to-date!\n"
     ]
    },
    {
     "data": {
      "text/html": [
       "<div>\n",
       "<style scoped>\n",
       "    .dataframe tbody tr th:only-of-type {\n",
       "        vertical-align: middle;\n",
       "    }\n",
       "\n",
       "    .dataframe tbody tr th {\n",
       "        vertical-align: top;\n",
       "    }\n",
       "\n",
       "    .dataframe thead th {\n",
       "        text-align: right;\n",
       "    }\n",
       "</style>\n",
       "<table border=\"1\" class=\"dataframe\">\n",
       "  <thead>\n",
       "    <tr style=\"text-align: right;\">\n",
       "      <th></th>\n",
       "      <th>Comment</th>\n",
       "      <th>Positive</th>\n",
       "      <th>Negative</th>\n",
       "      <th>Neutral</th>\n",
       "      <th>Compound</th>\n",
       "      <th>Sentiment</th>\n",
       "    </tr>\n",
       "  </thead>\n",
       "  <tbody>\n",
       "    <tr>\n",
       "      <th>0</th>\n",
       "      <td>Love how Dr. Fate's design looks and how cool ...</td>\n",
       "      <td>0.384</td>\n",
       "      <td>0.000</td>\n",
       "      <td>0.616</td>\n",
       "      <td>0.8910</td>\n",
       "      <td>Positive</td>\n",
       "    </tr>\n",
       "    <tr>\n",
       "      <th>1</th>\n",
       "      <td>I can’t get over how good everything looks. Dr...</td>\n",
       "      <td>0.153</td>\n",
       "      <td>0.000</td>\n",
       "      <td>0.847</td>\n",
       "      <td>0.6801</td>\n",
       "      <td>Positive</td>\n",
       "    </tr>\n",
       "    <tr>\n",
       "      <th>2</th>\n",
       "      <td>Really hoping that this can save DC's movie un...</td>\n",
       "      <td>0.375</td>\n",
       "      <td>0.000</td>\n",
       "      <td>0.625</td>\n",
       "      <td>0.9216</td>\n",
       "      <td>Positive</td>\n",
       "    </tr>\n",
       "    <tr>\n",
       "      <th>3</th>\n",
       "      <td>U cant deny how good this looks.Now if they ca...</td>\n",
       "      <td>0.302</td>\n",
       "      <td>0.049</td>\n",
       "      <td>0.649</td>\n",
       "      <td>0.9262</td>\n",
       "      <td>Positive</td>\n",
       "    </tr>\n",
       "    <tr>\n",
       "      <th>4</th>\n",
       "      <td>From this trailer, I have a feeling that this ...</td>\n",
       "      <td>0.131</td>\n",
       "      <td>0.000</td>\n",
       "      <td>0.869</td>\n",
       "      <td>0.4416</td>\n",
       "      <td>Positive</td>\n",
       "    </tr>\n",
       "  </tbody>\n",
       "</table>\n",
       "</div>"
      ],
      "text/plain": [
       "                                             Comment  Positive  Negative  \\\n",
       "0  Love how Dr. Fate's design looks and how cool ...     0.384     0.000   \n",
       "1  I can’t get over how good everything looks. Dr...     0.153     0.000   \n",
       "2  Really hoping that this can save DC's movie un...     0.375     0.000   \n",
       "3  U cant deny how good this looks.Now if they ca...     0.302     0.049   \n",
       "4  From this trailer, I have a feeling that this ...     0.131     0.000   \n",
       "\n",
       "   Neutral  Compound Sentiment  \n",
       "0    0.616    0.8910  Positive  \n",
       "1    0.847    0.6801  Positive  \n",
       "2    0.625    0.9216  Positive  \n",
       "3    0.649    0.9262  Positive  \n",
       "4    0.869    0.4416  Positive  "
      ]
     },
     "execution_count": 5,
     "metadata": {},
     "output_type": "execute_result"
    }
   ],
   "source": [
    "nltk.download('vader_lexicon')\n",
    "sentiments = SentimentIntensityAnalyzer()\n",
    "data1[\"Positive\"] = [sentiments.polarity_scores(i)[\"pos\"] for i in data1[\"Comment\"]]\n",
    "data1[\"Negative\"] = [sentiments.polarity_scores(i)[\"neg\"] for i in data1[\"Comment\"]]\n",
    "data1[\"Neutral\"] = [sentiments.polarity_scores(i)[\"neu\"] for i in data1[\"Comment\"]]\n",
    "data1['Compound'] = [sentiments.polarity_scores(i)[\"compound\"] for i in data1[\"Comment\"]]\n",
    "score = data1[\"Compound\"].values\n",
    "sentiment = []\n",
    "for i in score:\n",
    "    if i >= 0.05 :\n",
    "        sentiment.append('Positive')\n",
    "    elif i <= -0.05 :\n",
    "        sentiment.append('Negative')\n",
    "    else:\n",
    "        sentiment.append('Neutral')\n",
    "data1[\"Sentiment\"] = sentiment\n",
    "data1.head()"
   ]
  },
  {
   "cell_type": "markdown",
   "id": "f55806c8",
   "metadata": {
    "papermill": {
     "duration": 0.010755,
     "end_time": "2023-07-02T10:42:50.056684",
     "exception": false,
     "start_time": "2023-07-02T10:42:50.045929",
     "status": "completed"
    },
    "tags": []
   },
   "source": [
    "* **Final data**"
   ]
  },
  {
   "cell_type": "code",
   "execution_count": 6,
   "id": "c9d03a6e",
   "metadata": {
    "execution": {
     "iopub.execute_input": "2023-07-02T10:42:50.081371Z",
     "iopub.status.busy": "2023-07-02T10:42:50.080877Z",
     "iopub.status.idle": "2023-07-02T10:42:50.097013Z",
     "shell.execute_reply": "2023-07-02T10:42:50.095590Z"
    },
    "papermill": {
     "duration": 0.032054,
     "end_time": "2023-07-02T10:42:50.099852",
     "exception": false,
     "start_time": "2023-07-02T10:42:50.067798",
     "status": "completed"
    },
    "tags": []
   },
   "outputs": [
    {
     "data": {
      "text/html": [
       "<div>\n",
       "<style scoped>\n",
       "    .dataframe tbody tr th:only-of-type {\n",
       "        vertical-align: middle;\n",
       "    }\n",
       "\n",
       "    .dataframe tbody tr th {\n",
       "        vertical-align: top;\n",
       "    }\n",
       "\n",
       "    .dataframe thead th {\n",
       "        text-align: right;\n",
       "    }\n",
       "</style>\n",
       "<table border=\"1\" class=\"dataframe\">\n",
       "  <thead>\n",
       "    <tr style=\"text-align: right;\">\n",
       "      <th></th>\n",
       "      <th>Comment</th>\n",
       "      <th>Sentiment</th>\n",
       "    </tr>\n",
       "  </thead>\n",
       "  <tbody>\n",
       "    <tr>\n",
       "      <th>0</th>\n",
       "      <td>Love how Dr. Fate's design looks and how cool ...</td>\n",
       "      <td>Positive</td>\n",
       "    </tr>\n",
       "    <tr>\n",
       "      <th>1</th>\n",
       "      <td>I can’t get over how good everything looks. Dr...</td>\n",
       "      <td>Positive</td>\n",
       "    </tr>\n",
       "    <tr>\n",
       "      <th>2</th>\n",
       "      <td>Really hoping that this can save DC's movie un...</td>\n",
       "      <td>Positive</td>\n",
       "    </tr>\n",
       "    <tr>\n",
       "      <th>3</th>\n",
       "      <td>U cant deny how good this looks.Now if they ca...</td>\n",
       "      <td>Positive</td>\n",
       "    </tr>\n",
       "    <tr>\n",
       "      <th>4</th>\n",
       "      <td>From this trailer, I have a feeling that this ...</td>\n",
       "      <td>Positive</td>\n",
       "    </tr>\n",
       "  </tbody>\n",
       "</table>\n",
       "</div>"
      ],
      "text/plain": [
       "                                             Comment Sentiment\n",
       "0  Love how Dr. Fate's design looks and how cool ...  Positive\n",
       "1  I can’t get over how good everything looks. Dr...  Positive\n",
       "2  Really hoping that this can save DC's movie un...  Positive\n",
       "3  U cant deny how good this looks.Now if they ca...  Positive\n",
       "4  From this trailer, I have a feeling that this ...  Positive"
      ]
     },
     "execution_count": 6,
     "metadata": {},
     "output_type": "execute_result"
    }
   ],
   "source": [
    "data2=data1.drop(['Positive','Negative','Neutral','Compound'],axis=1)\n",
    "data2.head()"
   ]
  },
  {
   "cell_type": "markdown",
   "id": "6f929cc6",
   "metadata": {
    "papermill": {
     "duration": 0.010755,
     "end_time": "2023-07-02T10:42:50.121779",
     "exception": false,
     "start_time": "2023-07-02T10:42:50.111024",
     "status": "completed"
    },
    "tags": []
   },
   "source": [
    "* **Data transformation**"
   ]
  },
  {
   "cell_type": "code",
   "execution_count": 7,
   "id": "46e7ec94",
   "metadata": {
    "execution": {
     "iopub.execute_input": "2023-07-02T10:42:50.146801Z",
     "iopub.status.busy": "2023-07-02T10:42:50.146350Z",
     "iopub.status.idle": "2023-07-02T10:42:50.158662Z",
     "shell.execute_reply": "2023-07-02T10:42:50.157284Z"
    },
    "papermill": {
     "duration": 0.028666,
     "end_time": "2023-07-02T10:42:50.161453",
     "exception": false,
     "start_time": "2023-07-02T10:42:50.132787",
     "status": "completed"
    },
    "tags": []
   },
   "outputs": [],
   "source": [
    "stop_words = stopwords.words('english')\n",
    "porter_stemmer = PorterStemmer()\n",
    "lancaster_stemmer = LancasterStemmer() \n",
    "snowball_stemer = SnowballStemmer(language=\"english\")\n",
    "lzr = WordNetLemmatizer()"
   ]
  },
  {
   "cell_type": "code",
   "execution_count": 8,
   "id": "086275c9",
   "metadata": {
    "execution": {
     "iopub.execute_input": "2023-07-02T10:42:50.188256Z",
     "iopub.status.busy": "2023-07-02T10:42:50.186859Z",
     "iopub.status.idle": "2023-07-02T10:42:50.198828Z",
     "shell.execute_reply": "2023-07-02T10:42:50.197631Z"
    },
    "papermill": {
     "duration": 0.028982,
     "end_time": "2023-07-02T10:42:50.202025",
     "exception": false,
     "start_time": "2023-07-02T10:42:50.173043",
     "status": "completed"
    },
    "tags": []
   },
   "outputs": [],
   "source": [
    "def text_processing(text):   \n",
    "    # convert text into lowercase\n",
    "    text = text.lower()\n",
    "\n",
    "    # remove new line characters in text\n",
    "    text = re.sub(r'\\n',' ', text)\n",
    "    \n",
    "    # remove punctuations from text\n",
    "    text = re.sub('[%s]' % re.escape(punctuation), \"\", text)\n",
    "    \n",
    "    # remove references and hashtags from text\n",
    "    text = re.sub(\"^a-zA-Z0-9$,.\", \"\", text)\n",
    "    \n",
    "    # remove multiple spaces from text\n",
    "    text = re.sub(r'\\s+', ' ', text, flags=re.I)\n",
    "    \n",
    "    # remove special characters from text\n",
    "    text = re.sub(r'\\W', ' ', text)\n",
    "\n",
    "    text = ' '.join([word for word in word_tokenize(text) if word not in stop_words])\n",
    "    \n",
    "    # stemming using porter stemmer from nltk package - msh a7sn 7aga - momken: lancaster, snowball\n",
    "    # text=' '.join([porter_stemmer.stem(word) for word in word_tokenize(text)])\n",
    "    # text=' '.join([lancaster_stemmer.stem(word) for word in word_tokenize(text)])\n",
    "    # text=' '.join([snowball_stemer.stem(word) for word in word_tokenize(text)])\n",
    "    \n",
    "    # lemmatizer using WordNetLemmatizer from nltk package\n",
    "    text=' '.join([lzr.lemmatize(word) for word in word_tokenize(text)])\n",
    "\n",
    "    return text"
   ]
  },
  {
   "cell_type": "code",
   "execution_count": 9,
   "id": "c7815dec",
   "metadata": {
    "execution": {
     "iopub.execute_input": "2023-07-02T10:42:50.226005Z",
     "iopub.status.busy": "2023-07-02T10:42:50.225558Z",
     "iopub.status.idle": "2023-07-02T10:42:54.868194Z",
     "shell.execute_reply": "2023-07-02T10:42:54.866941Z"
    },
    "papermill": {
     "duration": 4.658377,
     "end_time": "2023-07-02T10:42:54.871447",
     "exception": false,
     "start_time": "2023-07-02T10:42:50.213070",
     "status": "completed"
    },
    "tags": []
   },
   "outputs": [
    {
     "name": "stderr",
     "output_type": "stream",
     "text": [
      "[nltk_data] Downloading package omw-1.4 to /usr/share/nltk_data...\n"
     ]
    }
   ],
   "source": [
    "nltk.download('omw-1.4')\n",
    "data_copy = data2.copy()\n",
    "data_copy.Comment = data_copy.Comment.apply(lambda text: text_processing(text))"
   ]
  },
  {
   "cell_type": "code",
   "execution_count": 10,
   "id": "e92dec29",
   "metadata": {
    "execution": {
     "iopub.execute_input": "2023-07-02T10:42:54.895899Z",
     "iopub.status.busy": "2023-07-02T10:42:54.895469Z",
     "iopub.status.idle": "2023-07-02T10:42:54.902460Z",
     "shell.execute_reply": "2023-07-02T10:42:54.901198Z"
    },
    "papermill": {
     "duration": 0.022217,
     "end_time": "2023-07-02T10:42:54.905222",
     "exception": false,
     "start_time": "2023-07-02T10:42:54.883005",
     "status": "completed"
    },
    "tags": []
   },
   "outputs": [],
   "source": [
    "le = LabelEncoder()\n",
    "data_copy['Sentiment'] = le.fit_transform(data_copy['Sentiment'])"
   ]
  },
  {
   "cell_type": "code",
   "execution_count": 11,
   "id": "0480d621",
   "metadata": {
    "execution": {
     "iopub.execute_input": "2023-07-02T10:42:54.929321Z",
     "iopub.status.busy": "2023-07-02T10:42:54.928815Z",
     "iopub.status.idle": "2023-07-02T10:42:54.943522Z",
     "shell.execute_reply": "2023-07-02T10:42:54.942243Z"
    },
    "papermill": {
     "duration": 0.030057,
     "end_time": "2023-07-02T10:42:54.946271",
     "exception": false,
     "start_time": "2023-07-02T10:42:54.916214",
     "status": "completed"
    },
    "tags": []
   },
   "outputs": [
    {
     "data": {
      "text/html": [
       "<div>\n",
       "<style scoped>\n",
       "    .dataframe tbody tr th:only-of-type {\n",
       "        vertical-align: middle;\n",
       "    }\n",
       "\n",
       "    .dataframe tbody tr th {\n",
       "        vertical-align: top;\n",
       "    }\n",
       "\n",
       "    .dataframe thead th {\n",
       "        text-align: right;\n",
       "    }\n",
       "</style>\n",
       "<table border=\"1\" class=\"dataframe\">\n",
       "  <thead>\n",
       "    <tr style=\"text-align: right;\">\n",
       "      <th></th>\n",
       "      <th>Sentence</th>\n",
       "      <th>Sentiment</th>\n",
       "    </tr>\n",
       "  </thead>\n",
       "  <tbody>\n",
       "    <tr>\n",
       "      <th>0</th>\n",
       "      <td>love dr fate design look cool scene look power...</td>\n",
       "      <td>2</td>\n",
       "    </tr>\n",
       "    <tr>\n",
       "      <th>1</th>\n",
       "      <td>get good everything look dr fate magic cyclone...</td>\n",
       "      <td>2</td>\n",
       "    </tr>\n",
       "    <tr>\n",
       "      <th>2</th>\n",
       "      <td>really hoping save dc movie universe looking n...</td>\n",
       "      <td>2</td>\n",
       "    </tr>\n",
       "    <tr>\n",
       "      <th>3</th>\n",
       "      <td>u cant deny good looksnow follow rest movie go...</td>\n",
       "      <td>2</td>\n",
       "    </tr>\n",
       "    <tr>\n",
       "      <th>4</th>\n",
       "      <td>trailer feeling movie going one movie would ne...</td>\n",
       "      <td>2</td>\n",
       "    </tr>\n",
       "  </tbody>\n",
       "</table>\n",
       "</div>"
      ],
      "text/plain": [
       "                                            Sentence  Sentiment\n",
       "0  love dr fate design look cool scene look power...          2\n",
       "1  get good everything look dr fate magic cyclone...          2\n",
       "2  really hoping save dc movie universe looking n...          2\n",
       "3  u cant deny good looksnow follow rest movie go...          2\n",
       "4  trailer feeling movie going one movie would ne...          2"
      ]
     },
     "execution_count": 11,
     "metadata": {},
     "output_type": "execute_result"
    }
   ],
   "source": [
    "processed_data = {\n",
    "    'Sentence':data_copy.Comment,\n",
    "    'Sentiment':data_copy['Sentiment']\n",
    "}\n",
    "\n",
    "processed_data = pd.DataFrame(processed_data)\n",
    "processed_data.head()"
   ]
  },
  {
   "cell_type": "code",
   "execution_count": 12,
   "id": "eaafa727",
   "metadata": {
    "execution": {
     "iopub.execute_input": "2023-07-02T10:42:54.970715Z",
     "iopub.status.busy": "2023-07-02T10:42:54.970294Z",
     "iopub.status.idle": "2023-07-02T10:42:54.984295Z",
     "shell.execute_reply": "2023-07-02T10:42:54.982822Z"
    },
    "papermill": {
     "duration": 0.02945,
     "end_time": "2023-07-02T10:42:54.987139",
     "exception": false,
     "start_time": "2023-07-02T10:42:54.957689",
     "status": "completed"
    },
    "tags": []
   },
   "outputs": [
    {
     "data": {
      "text/plain": [
       "2    205\n",
       "1     39\n",
       "0     36\n",
       "Name: Sentiment, dtype: int64"
      ]
     },
     "execution_count": 12,
     "metadata": {},
     "output_type": "execute_result"
    }
   ],
   "source": [
    "processed_data['Sentiment'].value_counts()"
   ]
  },
  {
   "cell_type": "markdown",
   "id": "23dc1b97",
   "metadata": {
    "papermill": {
     "duration": 0.017734,
     "end_time": "2023-07-02T10:42:55.016433",
     "exception": false,
     "start_time": "2023-07-02T10:42:54.998699",
     "status": "completed"
    },
    "tags": []
   },
   "source": [
    "* **Balancing data**"
   ]
  },
  {
   "cell_type": "code",
   "execution_count": 13,
   "id": "e7a01ad1",
   "metadata": {
    "execution": {
     "iopub.execute_input": "2023-07-02T10:42:55.041919Z",
     "iopub.status.busy": "2023-07-02T10:42:55.041487Z",
     "iopub.status.idle": "2023-07-02T10:42:55.058994Z",
     "shell.execute_reply": "2023-07-02T10:42:55.057472Z"
    },
    "papermill": {
     "duration": 0.033252,
     "end_time": "2023-07-02T10:42:55.061748",
     "exception": false,
     "start_time": "2023-07-02T10:42:55.028496",
     "status": "completed"
    },
    "tags": []
   },
   "outputs": [],
   "source": [
    "df_neutral = processed_data[(processed_data['Sentiment']==1)] \n",
    "df_negative = processed_data[(processed_data['Sentiment']==0)]\n",
    "df_positive = processed_data[(processed_data['Sentiment']==2)]\n",
    "\n",
    "# upsample minority classes\n",
    "df_negative_upsampled = resample(df_negative, \n",
    "                                 replace=True,    \n",
    "                                 n_samples= 205, \n",
    "                                 random_state=42)  \n",
    "\n",
    "df_neutral_upsampled = resample(df_neutral, \n",
    "                                 replace=True,    \n",
    "                                 n_samples= 205, \n",
    "                                 random_state=42)  \n",
    "\n",
    "\n",
    "# Concatenate the upsampled dataframes with the neutral dataframe\n",
    "final_data = pd.concat([df_negative_upsampled,df_neutral_upsampled,df_positive])"
   ]
  },
  {
   "cell_type": "code",
   "execution_count": 14,
   "id": "829b8f56",
   "metadata": {
    "execution": {
     "iopub.execute_input": "2023-07-02T10:42:55.088556Z",
     "iopub.status.busy": "2023-07-02T10:42:55.088073Z",
     "iopub.status.idle": "2023-07-02T10:42:55.097635Z",
     "shell.execute_reply": "2023-07-02T10:42:55.096435Z"
    },
    "papermill": {
     "duration": 0.026045,
     "end_time": "2023-07-02T10:42:55.100173",
     "exception": false,
     "start_time": "2023-07-02T10:42:55.074128",
     "status": "completed"
    },
    "tags": []
   },
   "outputs": [
    {
     "data": {
      "text/plain": [
       "0    205\n",
       "1    205\n",
       "2    205\n",
       "Name: Sentiment, dtype: int64"
      ]
     },
     "execution_count": 14,
     "metadata": {},
     "output_type": "execute_result"
    }
   ],
   "source": [
    "final_data['Sentiment'].value_counts()"
   ]
  },
  {
   "cell_type": "code",
   "execution_count": 15,
   "id": "456821c8",
   "metadata": {
    "execution": {
     "iopub.execute_input": "2023-07-02T10:42:55.125184Z",
     "iopub.status.busy": "2023-07-02T10:42:55.124746Z",
     "iopub.status.idle": "2023-07-02T10:42:55.133651Z",
     "shell.execute_reply": "2023-07-02T10:42:55.132532Z"
    },
    "papermill": {
     "duration": 0.024346,
     "end_time": "2023-07-02T10:42:55.136004",
     "exception": false,
     "start_time": "2023-07-02T10:42:55.111658",
     "status": "completed"
    },
    "tags": []
   },
   "outputs": [
    {
     "data": {
      "text/plain": [
       "['trailer look sick im definitely watching movie',\n",
       " 'actually look like villain trailer',\n",
       " 'movie going push dc top comic book movie disaster early dceu new msheu mess two awesome projekts behind suicide squad peacemaker yeah going rock pun kinda intended',\n",
       " 'damn sure im gon na watchdc seems going right track',\n",
       " 'okay look absolutely incredible dc making look foolish ever even skeptical film definitely seeing opening weekend']"
      ]
     },
     "execution_count": 15,
     "metadata": {},
     "output_type": "execute_result"
    }
   ],
   "source": [
    "corpus = []\n",
    "for sentence in final_data['Sentence']:\n",
    "    corpus.append(sentence)\n",
    "corpus[0:5]"
   ]
  },
  {
   "cell_type": "code",
   "execution_count": 16,
   "id": "a2bfb6a1",
   "metadata": {
    "execution": {
     "iopub.execute_input": "2023-07-02T10:42:55.161837Z",
     "iopub.status.busy": "2023-07-02T10:42:55.161358Z",
     "iopub.status.idle": "2023-07-02T10:42:55.190933Z",
     "shell.execute_reply": "2023-07-02T10:42:55.189753Z"
    },
    "papermill": {
     "duration": 0.046333,
     "end_time": "2023-07-02T10:42:55.193955",
     "exception": false,
     "start_time": "2023-07-02T10:42:55.147622",
     "status": "completed"
    },
    "tags": []
   },
   "outputs": [],
   "source": [
    "from sklearn.feature_extraction.text import CountVectorizer\n",
    "cv = CountVectorizer(max_features=1500)\n",
    "X = cv.fit_transform(corpus).toarray()\n",
    "y = final_data.iloc[:, -1].values"
   ]
  },
  {
   "cell_type": "markdown",
   "id": "dc68114e",
   "metadata": {
    "papermill": {
     "duration": 0.011125,
     "end_time": "2023-07-02T10:42:55.216735",
     "exception": false,
     "start_time": "2023-07-02T10:42:55.205610",
     "status": "completed"
    },
    "tags": []
   },
   "source": [
    "* **Machine learning model**"
   ]
  },
  {
   "cell_type": "code",
   "execution_count": 17,
   "id": "667b439d",
   "metadata": {
    "execution": {
     "iopub.execute_input": "2023-07-02T10:42:55.242043Z",
     "iopub.status.busy": "2023-07-02T10:42:55.241539Z",
     "iopub.status.idle": "2023-07-02T10:42:55.273204Z",
     "shell.execute_reply": "2023-07-02T10:42:55.271644Z"
    },
    "papermill": {
     "duration": 0.047832,
     "end_time": "2023-07-02T10:42:55.276087",
     "exception": false,
     "start_time": "2023-07-02T10:42:55.228255",
     "status": "completed"
    },
    "tags": []
   },
   "outputs": [
    {
     "data": {
      "text/plain": [
       "GaussianNB()"
      ]
     },
     "execution_count": 17,
     "metadata": {},
     "output_type": "execute_result"
    }
   ],
   "source": [
    "from sklearn.naive_bayes import GaussianNB\n",
    "from sklearn.model_selection import train_test_split\n",
    "X_train, X_test, y_train, y_test = train_test_split(X, y, test_size=0.3, random_state=0)\n",
    "classifier = GaussianNB()\n",
    "classifier.fit(X_train, y_train)"
   ]
  },
  {
   "cell_type": "markdown",
   "id": "a06140cc",
   "metadata": {
    "papermill": {
     "duration": 0.011345,
     "end_time": "2023-07-02T10:42:55.299420",
     "exception": false,
     "start_time": "2023-07-02T10:42:55.288075",
     "status": "completed"
    },
    "tags": []
   },
   "source": [
    "* **Evaluation**"
   ]
  },
  {
   "cell_type": "code",
   "execution_count": 18,
   "id": "22816dc6",
   "metadata": {
    "execution": {
     "iopub.execute_input": "2023-07-02T10:42:55.324429Z",
     "iopub.status.busy": "2023-07-02T10:42:55.323937Z",
     "iopub.status.idle": "2023-07-02T10:42:55.340537Z",
     "shell.execute_reply": "2023-07-02T10:42:55.339467Z"
    },
    "papermill": {
     "duration": 0.032389,
     "end_time": "2023-07-02T10:42:55.343481",
     "exception": false,
     "start_time": "2023-07-02T10:42:55.311092",
     "status": "completed"
    },
    "tags": []
   },
   "outputs": [
    {
     "data": {
      "text/plain": [
       "array([[58,  0,  0],\n",
       "       [ 0, 70,  0],\n",
       "       [11,  1, 45]])"
      ]
     },
     "execution_count": 18,
     "metadata": {},
     "output_type": "execute_result"
    }
   ],
   "source": [
    "from sklearn.metrics import confusion_matrix, accuracy_score\n",
    "y_pred = classifier.predict(X_test)\n",
    "cm = confusion_matrix(y_test, y_pred)\n",
    "cm"
   ]
  },
  {
   "cell_type": "code",
   "execution_count": 19,
   "id": "0888a182",
   "metadata": {
    "execution": {
     "iopub.execute_input": "2023-07-02T10:42:55.370084Z",
     "iopub.status.busy": "2023-07-02T10:42:55.369631Z",
     "iopub.status.idle": "2023-07-02T10:42:55.377051Z",
     "shell.execute_reply": "2023-07-02T10:42:55.375179Z"
    },
    "papermill": {
     "duration": 0.024261,
     "end_time": "2023-07-02T10:42:55.379993",
     "exception": false,
     "start_time": "2023-07-02T10:42:55.355732",
     "status": "completed"
    },
    "tags": []
   },
   "outputs": [
    {
     "name": "stdout",
     "output_type": "stream",
     "text": [
      "accuracy 0.9351351351351351\n"
     ]
    }
   ],
   "source": [
    "nb_score = accuracy_score(y_test, y_pred)\n",
    "print('accuracy',nb_score)"
   ]
  },
  {
   "cell_type": "markdown",
   "id": "f555f741",
   "metadata": {
    "papermill": {
     "duration": 0.011643,
     "end_time": "2023-07-02T10:42:55.403727",
     "exception": false,
     "start_time": "2023-07-02T10:42:55.392084",
     "status": "completed"
    },
    "tags": []
   },
   "source": [
    "### Here the model is showing 93% accuracy so we can say its a good fit model"
   ]
  },
  {
   "cell_type": "code",
   "execution_count": null,
   "id": "07bf9941",
   "metadata": {
    "papermill": {
     "duration": 0.011601,
     "end_time": "2023-07-02T10:42:55.427484",
     "exception": false,
     "start_time": "2023-07-02T10:42:55.415883",
     "status": "completed"
    },
    "tags": []
   },
   "outputs": [],
   "source": []
  }
 ],
 "metadata": {
  "kernelspec": {
   "display_name": "Python 3",
   "language": "python",
   "name": "python3"
  },
  "language_info": {
   "codemirror_mode": {
    "name": "ipython",
    "version": 3
   },
   "file_extension": ".py",
   "mimetype": "text/x-python",
   "name": "python",
   "nbconvert_exporter": "python",
   "pygments_lexer": "ipython3",
   "version": "3.7.12"
  },
  "papermill": {
   "default_parameters": {},
   "duration": 23.060217,
   "end_time": "2023-07-02T10:42:56.564733",
   "environment_variables": {},
   "exception": null,
   "input_path": "__notebook__.ipynb",
   "output_path": "__notebook__.ipynb",
   "parameters": {},
   "start_time": "2023-07-02T10:42:33.504516",
   "version": "2.3.4"
  }
 },
 "nbformat": 4,
 "nbformat_minor": 5
}
